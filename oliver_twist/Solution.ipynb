{
 "cells": [
  {
   "cell_type": "markdown",
   "metadata": {},
   "source": [
    "# Oliver Twist\n",
    "\n",
    "Ok, this one doesn't have a complete solution for now.\n",
    "\n",
    "The main idea is that the `tosh` function is an implementations of the [Tonelli-Shanks](https://en.wikipedia.org/wiki/Tonelli%E2%80%93Shanks_algorithm) algorithm to find square roots modulo primes.\n",
    "\n",
    "Then the function `teml` does something only if $l=2$ (and $l$ can be only $0,1,2$).\n",
    "\n",
    "Knowing that $r\\equiv\\frac{am^2-1}{dm^2-1}\\pmod p$ and that $y^2\\equiv r\\pmod p$, one can actually compute what the `teml` function does on the $l=2$ case.\n",
    "\n",
    "Then we have to solve $Q[1]^2\\equiv\\frac{am^2-1}{dm^2-1}\\pmod p$ in one case, and another equation if $l=2$.\n",
    "\n",
    "We find the $m$, we subtract the $313$ loops and we get the key."
   ]
  }
 ],
 "metadata": {
  "kernelspec": {
   "display_name": "SageMath 8.1",
   "language": "",
   "name": "sagemath"
  },
  "language_info": {
   "codemirror_mode": {
    "name": "ipython",
    "version": 2
   },
   "file_extension": ".py",
   "mimetype": "text/x-python",
   "name": "python",
   "nbconvert_exporter": "python",
   "pygments_lexer": "ipython2",
   "version": "2.7.15+"
  }
 },
 "nbformat": 4,
 "nbformat_minor": 2
}
