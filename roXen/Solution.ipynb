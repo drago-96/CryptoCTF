{
 "cells": [
  {
   "cell_type": "markdown",
   "metadata": {},
   "source": [
    "# roXen\n",
    "\n",
    "This one has a half solution: my teammates found $p,q$ and I found $e$ and decrypted the tricky RSA. The initial assertion means that $e=2^k-1$.\n",
    "\n",
    "The trick was that $\\gcd(e,\\varphi(n))\\neq1$ unlike the usual cases.\n",
    "\n",
    "This is solved by taking $g=\\gcd(\\varphi(n),e)$, and solving for $d\\frac e g\\equiv1\\pmod{\\varphi(n)}$, which hopefully we can do. Actually in some cases also $\\gcd(\\frac e g,\\varphi(n))\\neq1$, but we found the solution anyway.\n",
    "\n",
    "In this way $(m^e)^d\\equiv m^{gd\\frac e g}\\equiv m^g\\pmod n$; to find $m$ we must do a $g$-th root in $\\mathbb Z/n\\mathbb Z$, but we hope for the best and do the $g$-th root in the integers.\n",
    "\n",
    "Moreover, we noticed that $\\varphi(n)$ had still too many factors, so we used the [lambda](https://en.wikipedia.org/wiki/Carmichael_function) function, which for RSA works the same as $\\varphi$."
   ]
  },
  {
   "cell_type": "code",
   "execution_count": 2,
   "metadata": {},
   "outputs": [],
   "source": [
    "from Crypto.Util.number import *\n",
    "\n",
    "p = 91934396941118575436929554782758166784623142015203107928295225306949429527662253180027648166060067602233902389535868116051536080388999480377007211745229221564969130373120800620379012435790356909945473565305296926519232706950561924532325538399351352696805684504904629096892037592742285758390953849377910498739\n",
    "q = 87834916545113015336000964296144306577174555879027549345134855850783246277838709952680829156347468418886211490335525241607253688425417142115840218894244902812798763051744684655923207165455737209507609386779708842318917975391900956941587572141475884466544826179681669143055208345737430546444402480246313669813\n",
    "n = p*q\n",
    "phi = (p-1)*(q-1)\n",
    "phi = lcm(p-1,q-1) # okay, it's lambda. Whatever\n",
    "\n",
    "enc = \"0x2672cade2272f3024fd2d1984ea1b8e54809977e7a8c70a07e2560f39e6fcce0e292426e28df51492dec67d000d640f3e5b4c6c447845e70d1432a3c816a33da6a276b0baabd0111279c9f267a90333625425b1d73f1cdc254ded2ad54955914824fc99e65b3dea3e365cfb1dce6e025986b2485b6c13ca0ee73c2433cf0ca0265afe42cbf647b5c721a6e51514220bab8fcb9cff570a6922bceb12e9d61115357afe1705bda3c3f0b647ba37711c560b75841135198cc076d0a52c74f9802760c1f881887cc3e50b7e0ff36f0d9fa1bfc66dff717f032c066b555e315cb07e3df13774eaa70b18ea1bb3ea0fd1227d4bac84be2660552d3885c79815baef661\"\n",
    "cflag = int(enc, 16)"
   ]
  },
  {
   "cell_type": "code",
   "execution_count": 8,
   "metadata": {},
   "outputs": [
    {
     "name": "stdout",
     "output_type": "stream",
     "text": [
      "1993862103387680931099035951045420772658074277945939998941083749798260054432823677\n"
     ]
    },
    {
     "data": {
      "text/plain": [
       "'CCTF{it5_3a5y_l1k3_5uNd4y_MOrn1N9}'"
      ]
     },
     "execution_count": 8,
     "metadata": {},
     "output_type": "execute_result"
    }
   ],
   "source": [
    "e = 3\n",
    "R = IntegerModRing(n)\n",
    "for i in range(5000):\n",
    "    g = GCD(e, phi)\n",
    "    if g == 1:\n",
    "        d = inverse_mod(e, phi)\n",
    "        dflag = power_mod(cflag, d, n)\n",
    "        if \"CCTF\" in str(long_to_bytes(dflag)):\n",
    "            print e, long_to_bytes(dflag)  \n",
    "    elif GCD(phi, e/g) == 1:\n",
    "        d = inverse_mod(Integer(e/g), phi)\n",
    "        dflag = power_mod(cflag, d, n)\n",
    "        m = dflag^(1/g)\n",
    "        if m.is_integer():\n",
    "            print m\n",
    "            break\n",
    "    e = e*2+1\n",
    "\n",
    "long_to_bytes(m)"
   ]
  }
 ],
 "metadata": {
  "kernelspec": {
   "display_name": "SageMath 8.1",
   "language": "",
   "name": "sagemath"
  },
  "language_info": {
   "codemirror_mode": {
    "name": "ipython",
    "version": 2
   },
   "file_extension": ".py",
   "mimetype": "text/x-python",
   "name": "python",
   "nbconvert_exporter": "python",
   "pygments_lexer": "ipython2",
   "version": "2.7.15+"
  }
 },
 "nbformat": 4,
 "nbformat_minor": 2
}
