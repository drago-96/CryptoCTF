{
 "cells": [
  {
   "cell_type": "markdown",
   "metadata": {},
   "source": [
    "# Clever girl"
   ]
  },
  {
   "cell_type": "code",
   "execution_count": null,
   "metadata": {},
   "outputs": [],
   "source": [
    "#!/usr/bin/env python\n",
    "\n",
    "import gmpy2\n",
    "from fractions import Fraction\n",
    "from secret import p, q, s, X, Y\n",
    "from flag import flag\n",
    "\n",
    "assert gmpy2.is_prime(p) * gmpy2.is_prime(q) > 0\n",
    "assert Fraction(p, p+1) + Fraction(q+1, q) == Fraction(2*s - X, s + Y)\n",
    "print 'Fraction(p, p+1) + Fraction(q+1, q) = Fraction(2*s - %s, s + %s)' % (X, Y)\n",
    "\n",
    "n = p * q\n",
    "c = pow(int(flag.encode('hex'), 16), 0x20002, n)\n",
    "print 'n =', n\n",
    "print 'c =', c"
   ]
  },
  {
   "cell_type": "markdown",
   "metadata": {},
   "source": [
    "The code is very short and simple: we need to break an RSA encryption, where $p,q$ satisfy some odd equation.\n",
    "\n",
    "In particular we know that $$ \\frac{p}{p+1}+\\frac{q+1}{q} = \\frac{2s-X}{s+Y} $$\n",
    "\n",
    "We simplify the LHS in this way: $\\frac{p}{p+1}+\\frac{q+1}{q} = 2 + \\frac1q-\\frac1{p+1}$. Moving the $2$ on the other side, after some computations we get\n",
    "$$ \\frac{q-(p+1)}{(p+1)q} = \\frac{X+2Y}{s+Y} $$\n",
    "and after we multiply everything, we get the (not so) nice equation\n",
    "$$ (q-p-1)(s+Y)=(X+2Y)(p+1)q $$\n",
    "\n",
    "### Now what?\n",
    "\n",
    "Now we start to make some assumptions or get some properties.\n",
    "\n",
    "One of the first thing I tried was to factor $X+2Y$, since it's a number we know; unfortunately it was too big. \n",
    "\n",
    "Then we notice that $q>p+1$, and in particular $\\gcd(q,p+1)=1$.\n",
    "\n",
    "This is VERY useful, since we can do this trick: $q\\mid (p+1)(s+Y)\\implies q\\mid s+Y$, and similarly $p+1\\mid q(s+Y)\\implies p+1\\mid s+Y$. Given these poverful divisibilities, we write $$ q-p-1 \\cdot \\frac{s+Y}{q(p+1)} = X+2Y $$ where the fraction is actually an integer.\n",
    "\n",
    "At this point I **really** wanted to factor $X+2Y$, but everything failed again (WolframAlpha, factordb.com, sage...).\n",
    "\n",
    "### The lucky shot\n",
    "\n",
    "So after some time, I said \"what if that fraction is actually simply $1$?\".\n",
    "\n",
    "In this way, we'd have $q=p+1+X+2Y$, hence $n=pq=p^2+p(1+X+2Y)$, which is a quadratic equation in $p$ of which we know all coefficients!\n",
    "\n",
    "I wrote some lines of code, and..."
   ]
  },
  {
   "cell_type": "code",
   "execution_count": 3,
   "metadata": {},
   "outputs": [
    {
     "data": {
      "text/plain": [
       "True"
      ]
     },
     "execution_count": 3,
     "metadata": {},
     "output_type": "execute_result"
    }
   ],
   "source": [
    "X = 153801856029563198525204130558738800846256680799373350925981555360388985602786501362501554433635610131437376183630577217917787342621398264625389914280509\n",
    "Y = 8086061902465799210233863613232941060876437002894022994953293934963170056653232109405937694010696299303888742108631749969054117542816358078039478109426\n",
    "n = 161010103536746712075112156042553283066813155993777943981946663919051986586388748662616958741697621238654724628406094469789970509959159343108847331259823125490271091357244742345403096394500947202321339572876147277506789731024810289354756781901338337411136794489136638411531539112369520980466458615878975406339\n",
    "\n",
    "b = 1+(X+2*Y)\n",
    "D = (b)^2+4*n\n",
    "is_square(D)"
   ]
  },
  {
   "cell_type": "markdown",
   "metadata": {},
   "source": [
    "Bingo! The discriminant is an integer!\n",
    "\n",
    "So the quadratic equation has actually an integer solution, $p$. We can check that it is actually a prime number, but we know that already."
   ]
  },
  {
   "cell_type": "code",
   "execution_count": 7,
   "metadata": {},
   "outputs": [
    {
     "data": {
      "text/plain": [
       "True"
      ]
     },
     "execution_count": 7,
     "metadata": {},
     "output_type": "execute_result"
    }
   ],
   "source": [
    "p =(-b+sqrt(D))/2\n",
    "q = n/p\n",
    "\n",
    "is_prime(Integer(p)) and is_prime(Integer(q))"
   ]
  },
  {
   "cell_type": "markdown",
   "metadata": {},
   "source": [
    "And now it's the usual RSA decryption, with the added trick that $\\gcd(\\varphi(n),e)\\neq1$.\n",
    "\n",
    "Look at th roXen solution for details."
   ]
  },
  {
   "cell_type": "code",
   "execution_count": 9,
   "metadata": {},
   "outputs": [
    {
     "data": {
      "text/plain": [
       "'CCTF{4Ll___G1rL5___Are__T4len73E__:P}'"
      ]
     },
     "execution_count": 9,
     "metadata": {},
     "output_type": "execute_result"
    }
   ],
   "source": [
    "from Crypto.Util.number import *\n",
    "\n",
    "phi = (p-1)*(q-1)\n",
    "e = int(\"0x20002\", 16)\n",
    "d = inverse_mod(e//2, phi)\n",
    "\n",
    "c = 64166146958225113130966383399465462600516627646827654061505253681784027524205938322376396685421354659091159523153346321216052274404398431369574383580893610370389016662302880230566394277969479472339696624461863666891731292801506958051383432113998695237733732222591191217365300789670291769876292466495287189494\n",
    "m = power_mod(c, d, n)\n",
    "long_to_bytes(m^(1/2))"
   ]
  }
 ],
 "metadata": {
  "kernelspec": {
   "display_name": "SageMath 8.1",
   "language": "",
   "name": "sagemath"
  },
  "language_info": {
   "codemirror_mode": {
    "name": "ipython",
    "version": 2
   },
   "file_extension": ".py",
   "mimetype": "text/x-python",
   "name": "python",
   "nbconvert_exporter": "python",
   "pygments_lexer": "ipython2",
   "version": "2.7.15+"
  }
 },
 "nbformat": 4,
 "nbformat_minor": 2
}
