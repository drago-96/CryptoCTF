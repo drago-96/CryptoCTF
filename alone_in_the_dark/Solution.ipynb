{
 "cells": [
  {
   "cell_type": "markdown",
   "metadata": {},
   "source": [
    "# Alone in the dark\n",
    "\n",
    "First let's see the problem"
   ]
  },
  {
   "cell_type": "code",
   "execution_count": null,
   "metadata": {},
   "outputs": [],
   "source": [
    "#!/usr/bin/env python\n",
    "\n",
    "import gmpy2\n",
    "from hashlib import sha256\n",
    "from secret import u, v, x, y\n",
    "\n",
    "assert ((u+1)**2 + u**2 - v**2)**2 + ((x+1)**3 - x**3 - y**2)**4 + (gmpy2.is_prime(v) + 1)**6 + (gmpy2.is_prime(y) - 1)**8 + (len(bin(u)[2:]) - 664)**10 + (len(bin(x)[2:]) - 600)**12 == 664 - 600\n",
    "\n",
    "flag = 'CCTF{' + sha256(str(u) + str(v) + str(x) + str(y)).hexdigest() + '}'"
   ]
  },
  {
   "cell_type": "markdown",
   "metadata": {},
   "source": [
    "It's a single assert, asking that a sum of even powers is equal to $64$. In particular, all the addends will be positive.\n",
    "\n",
    "The first thing to notice is that the last two powers ($10$ and $12$) are too big, hence the argument must be $0$ or $\\pm1$; this means that $u$ has $664\\pm1$ digits in base $2$ and $x$ has $600\\pm1$ digits. This will be helpful later.\n",
    "\n",
    "Then we have $({\\tt is\\_prime}(v)+1)^6+({\\tt is\\_prime}(y)-1)^8$: if $v$ is prime, then all the other powers must be zero!\n",
    "Let's see if there exists a solution with $v$ not prime.\n",
    "\n",
    "Then we have something of the form $a^2+b^4=64-1-\\varepsilon_1-\\varepsilon_2-\\varepsilon_3$, where the $\\varepsilon_i$ are $0$ or $1$; hence we have the three equations $a^2+b^4=63,62,61,60$ and none of them has an integer solution."
   ]
  },
  {
   "cell_type": "code",
   "execution_count": 1,
   "metadata": {},
   "outputs": [],
   "source": [
    "res = [60,61,62,63]\n",
    "for a in range(8):\n",
    "    for b in range(3):\n",
    "        z = a^2+b^4\n",
    "        if z in res:\n",
    "            print z        "
   ]
  },
  {
   "cell_type": "markdown",
   "metadata": {},
   "source": [
    "Ok, so we have $v$ prime and all the other powers equal to zero:\n",
    " - $v,y$ primes\n",
    " - $(u+1)^2+u^2-v^2=0$ and $(x+1)^3-x^3-y^2=0$\n",
    " - $\\lfloor\\log_2 u\\rfloor+1=664$ and $\\lfloor\\log_2 x\\rfloor+1=600$\n",
    " \n",
    " We will use the middle equations, which are examples of the so-called [Pell's equation](https://en.wikipedia.org/wiki/Pell%27s_equation) since we can rewrite them as\n",
    " $$ (2u+1)^2-2v^2=1 $$\n",
    " $$ (2y)^2-3(2x+1)^2 = 1 $$\n",
    " \n",
    " Now the path is straightforward: each Pell has an infinite number of solutions, but parametrized by one integer $n$; so we pick the one solution of the right size, and hope that $v$ and $y$ are actually primes!"
   ]
  },
  {
   "cell_type": "markdown",
   "metadata": {},
   "source": [
    "### Let's solve $(2u+1)^2-2v^2=1$!\n",
    "\n",
    "The theory of the Pell's equations says that every solution is a power of the fundamental unit of $\\mathbb Q[\\sqrt2]$, i.e \n",
    "$$ (2u_n+1)+v_n\\sqrt2 = (1+\\sqrt2)^n $$\n",
    "\n",
    "Sage is made to do this sort of computations, and we use it!\n",
    "\n",
    "To find $n$ we use the fact that $2u_n+1$ is VERY near to $(1+\\sqrt2)^n$; since we know how big $u$ is, we can find $n$."
   ]
  },
  {
   "cell_type": "code",
   "execution_count": 42,
   "metadata": {},
   "outputs": [
    {
     "name": "stdout",
     "output_type": "stream",
     "text": [
      "a + 1\n"
     ]
    },
    {
     "data": {
      "text/plain": [
       "522.195961701310"
      ]
     },
     "execution_count": 42,
     "metadata": {},
     "output_type": "execute_result"
    }
   ],
   "source": [
    "K.<a> = QuadraticField(2)\n",
    "t = K.units()[0]\n",
    "print t\n",
    "\n",
    "phi = K.embeddings(RR)[1]\n",
    "664/log(phi(t),2) #this is the approximate exponent n we are looking for"
   ]
  },
  {
   "cell_type": "code",
   "execution_count": 47,
   "metadata": {},
   "outputs": [
    {
     "name": "stdout",
     "output_type": "stream",
     "text": [
      "u = 38870796548368940451592529482185869982938448205812640195914560739542103841403178847163517462769143179065031576973812014377488506777895445800461891869308645201761858965032907136032847098509289762520539\n",
      "v = 54971607658948646301386783144964782698772613513307493180078896702918825851648683235325858118170150873214978343601463118106546653220435805362395962991295556488036606954237309847762149971207793263738989\n"
     ]
    }
   ],
   "source": [
    "for n in range(510,530):\n",
    "    u = ((1+a)^n + (1-a)^n)/2\n",
    "    v = ((1+a)^n - (1-a)^n)/(2*a)\n",
    "    if is_prime(Integer(v)):\n",
    "        break\n",
    "\n",
    "# transform the solutions to the actual numbers\n",
    "u = Integer((u-1)/2)\n",
    "v = Integer(v)\n",
    "print \"u =\", u\n",
    "print \"v =\", v"
   ]
  },
  {
   "cell_type": "markdown",
   "metadata": {},
   "source": [
    "### Let's solve $(2y)^2-3(2x+1)^2=1$!\n",
    "\n",
    "This is identical to the one above, but we work in the field $\\mathbb Q[\\sqrt3]$.\n",
    "\n",
    "The solutions are $(2y_n)+(2x_n+1)\\sqrt3=(2+\\sqrt3)^n$, and as before we find the proper $n$."
   ]
  },
  {
   "cell_type": "code",
   "execution_count": 48,
   "metadata": {},
   "outputs": [
    {
     "name": "stdout",
     "output_type": "stream",
     "text": [
      "a + 2\n"
     ]
    },
    {
     "data": {
      "text/plain": [
       "315.794688127156"
      ]
     },
     "execution_count": 48,
     "metadata": {},
     "output_type": "execute_result"
    }
   ],
   "source": [
    "K.<a> = QuadraticField(3)\n",
    "t = K.units()[0]\n",
    "t = -1/t\n",
    "print t\n",
    "\n",
    "phi = K.embeddings(RR)[1]\n",
    "600/log(phi(t),2) #this is the approximate exponent n we are looking for"
   ]
  },
  {
   "cell_type": "code",
   "execution_count": 50,
   "metadata": {},
   "outputs": [
    {
     "name": "stdout",
     "output_type": "stream",
     "text": [
      "x = 2929219721139577720733862051859801690342725739320715630102152440665051724895027651815801589822478988305846846083549661332897318938724576681923803796059612952236038798314710140134264\n",
      "y = 5073557383546487137945410473466556718830129339025213837451156233563658135296353459994544781708539660966095175852902937975236171859961262538393568510313468641105066779787434237464141\n"
     ]
    }
   ],
   "source": [
    "for n in range(310,320):\n",
    "    y = ((2+a)^n + (2-a)^n)/2\n",
    "    x = ((2+a)^n - (2-a)^n)/(2*a)\n",
    "    if is_even(Integer(y)) and is_prime(Integer(y/2)):\n",
    "        break\n",
    "        \n",
    "# transform back\n",
    "y = Integer(y/2)\n",
    "x = Integer((x-1)/2)\n",
    "\n",
    "print \"x =\", x\n",
    "print \"y =\", y"
   ]
  },
  {
   "cell_type": "markdown",
   "metadata": {},
   "source": [
    "## The end!"
   ]
  },
  {
   "cell_type": "code",
   "execution_count": 52,
   "metadata": {},
   "outputs": [
    {
     "name": "stdout",
     "output_type": "stream",
     "text": [
      "CCTF{07f594e5fb8f6d5f82e5cce06e2a2c74c1bffce370cd904821fdd71027faa084}\n"
     ]
    }
   ],
   "source": [
    "from hashlib import sha256\n",
    "flag = 'CCTF{' + sha256(str(u) + str(v) + str(x) + str(y)).hexdigest() + '}'\n",
    "print flag"
   ]
  }
 ],
 "metadata": {
  "kernelspec": {
   "display_name": "SageMath 8.1",
   "language": "",
   "name": "sagemath"
  },
  "language_info": {
   "codemirror_mode": {
    "name": "ipython",
    "version": 2
   },
   "file_extension": ".py",
   "mimetype": "text/x-python",
   "name": "python",
   "nbconvert_exporter": "python",
   "pygments_lexer": "ipython2",
   "version": "2.7.15+"
  }
 },
 "nbformat": 4,
 "nbformat_minor": 2
}
